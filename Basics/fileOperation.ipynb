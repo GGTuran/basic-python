{
 "cells": [
  {
   "cell_type": "code",
   "execution_count": 1,
   "metadata": {},
   "outputs": [
    {
     "name": "stdout",
     "output_type": "stream",
     "text": [
      "Hello World!\n",
      "Hoping to find you in good health\n",
      "\n"
     ]
    }
   ],
   "source": [
    "# Reading a whole file \n",
    "with open('gg.txt', 'r') as file:\n",
    "    content = file.read();\n",
    "    print(content)"
   ]
  },
  {
   "cell_type": "code",
   "execution_count": 2,
   "metadata": {},
   "outputs": [
    {
     "name": "stdout",
     "output_type": "stream",
     "text": [
      "Hello World!\n",
      "\n",
      "Hoping to find you in good health\n",
      "\n"
     ]
    }
   ],
   "source": [
    "# Reading a file line line \n",
    "with open('gg.txt','r') as file:\n",
    "    for line in file:\n",
    "        print(line)"
   ]
  },
  {
   "cell_type": "code",
   "execution_count": 6,
   "metadata": {},
   "outputs": [],
   "source": [
    "# Overwriting a file \n",
    "with open('gg.txt', 'w') as file:\n",
    "    file.write('Hello world!\\n')\n",
    "    file.write('This is a new line.')"
   ]
  },
  {
   "cell_type": "code",
   "execution_count": 7,
   "metadata": {},
   "outputs": [],
   "source": [
    "# Appending a line \n",
    "with open('gg.txt', 'a') as file:\n",
    "    file.write('Appending a line')"
   ]
  },
  {
   "cell_type": "code",
   "execution_count": 9,
   "metadata": {},
   "outputs": [],
   "source": [
    "# Writing into a binary file \n",
    "data = b'\\x00\\x01\\x02\\x03\\x04'\n",
    "with open('gg.bin', 'wb') as file:\n",
    "    file.write(data)"
   ]
  },
  {
   "cell_type": "code",
   "execution_count": 11,
   "metadata": {},
   "outputs": [
    {
     "name": "stdout",
     "output_type": "stream",
     "text": [
      "Lines:2, Words:9, Characters:48\n"
     ]
    }
   ],
   "source": [
    "# Read a text file and count the number of lines,words, and characters\n",
    "def count_text_file(file_path):\n",
    "    with open(file_path, 'r') as file:\n",
    "        lines = file.readlines()\n",
    "        line_count = len(lines)\n",
    "        word_count = sum(len(line.split()) for line in lines)\n",
    "        char_count = sum(len(line) for line in lines)\n",
    "    return line_count, word_count, char_count\n",
    "\n",
    "file_path = 'gg.txt'\n",
    "lines, words, characters = count_text_file(file_path)\n",
    "print(f'Lines:{lines}, Words:{words}, Characters:{characters}')"
   ]
  },
  {
   "cell_type": "code",
   "execution_count": 13,
   "metadata": {},
   "outputs": [],
   "source": [
    "# Writing and then reading a file \n",
    "with open('example.txt', 'w+') as file:\n",
    "    file.write('GG\\n')\n",
    "    file.write('GG')"
   ]
  },
  {
   "cell_type": "code",
   "execution_count": 2,
   "metadata": {},
   "outputs": [],
   "source": [
    "import os"
   ]
  },
  {
   "cell_type": "code",
   "execution_count": 15,
   "metadata": {},
   "outputs": [
    {
     "name": "stdout",
     "output_type": "stream",
     "text": [
      "c:\\ML\\Basic Python\n"
     ]
    }
   ],
   "source": [
    "cwd = os.getcwd()\n",
    "print(cwd)"
   ]
  },
  {
   "cell_type": "code",
   "execution_count": 16,
   "metadata": {},
   "outputs": [
    {
     "name": "stdout",
     "output_type": "stream",
     "text": [
      "['conditionals.ipynb', 'dictionary.ipynb', 'example.csv', 'example.txt', 'fileOperation.ipynb', 'functions.ipynb', 'gg.bin', 'gg.txt', 'lambda.ipynb', 'library.ipynb', 'lists.ipynb', 'loops.ipynb', 'package', 'set.ipynb', 'source.txt', 'test.dir', 'tuple.ipynb']\n"
     ]
    }
   ],
   "source": [
    "# Listing files and directories\n",
    "items = os.listdir('.')\n",
    "print(items)"
   ]
  },
  {
   "cell_type": "code",
   "execution_count": 3,
   "metadata": {},
   "outputs": [
    {
     "name": "stdout",
     "output_type": "stream",
     "text": [
      "The path 'exampleGG.txt' does not exist\n"
     ]
    }
   ],
   "source": [
    "path = 'exampleGG.txt'\n",
    "if os.path.exists(path):\n",
    "    print(f\"The path '{path}' exists\")\n",
    "else:\n",
    "    print(f\"The path '{path}' does not exist\")"
   ]
  },
  {
   "cell_type": "code",
   "execution_count": null,
   "metadata": {},
   "outputs": [],
   "source": []
  }
 ],
 "metadata": {
  "kernelspec": {
   "display_name": "Python 3",
   "language": "python",
   "name": "python3"
  },
  "language_info": {
   "codemirror_mode": {
    "name": "ipython",
    "version": 3
   },
   "file_extension": ".py",
   "mimetype": "text/x-python",
   "name": "python",
   "nbconvert_exporter": "python",
   "pygments_lexer": "ipython3",
   "version": "3.12.0"
  }
 },
 "nbformat": 4,
 "nbformat_minor": 2
}
