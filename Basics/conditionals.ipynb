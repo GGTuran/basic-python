{
 "cells": [
  {
   "cell_type": "code",
   "execution_count": 3,
   "metadata": {},
   "outputs": [
    {
     "name": "stdout",
     "output_type": "stream",
     "text": [
      "You are eligible to vote\n"
     ]
    }
   ],
   "source": [
    "# If-else Statement\n",
    "\n",
    "age = 20;\n",
    "if age >= 18:\n",
    "    print('You are eligible to vote')\n",
    "else:\n",
    "    print('You are not eligible to vote')\n"
   ]
  },
  {
   "cell_type": "code",
   "execution_count": 4,
   "metadata": {},
   "outputs": [
    {
     "name": "stdout",
     "output_type": "stream",
     "text": [
      "You are an adult\n"
     ]
    }
   ],
   "source": [
    "#elif statement to check multiple conditions\n",
    "age = 20;\n",
    "if age<13:\n",
    "    print('You are a child')\n",
    "elif age<18:\n",
    "    print('You are not an adult')\n",
    "else:\n",
    "    print('You are an adult')"
   ]
  },
  {
   "cell_type": "code",
   "execution_count": 6,
   "metadata": {},
   "outputs": [
    {
     "name": "stdout",
     "output_type": "stream",
     "text": [
      "The number is negative\n"
     ]
    }
   ],
   "source": [
    "# Nested conditionals\n",
    "\n",
    "num = int(input('Enter a number:'));\n",
    "\n",
    "if num >= 0:\n",
    "    print('The number is positive');\n",
    "    if num%2 == 0:\n",
    "        print('The number is even');\n",
    "    else:\n",
    "        print('The number is odd')\n",
    "else:\n",
    "    print('The number is negative')"
   ]
  },
  {
   "cell_type": "code",
   "execution_count": 8,
   "metadata": {},
   "outputs": [
    {
     "name": "stdout",
     "output_type": "stream",
     "text": [
      "2024  is a leap year\n"
     ]
    }
   ],
   "source": [
    "# Determining a leap year\n",
    "\n",
    "year = int(input('Enter a year'));\n",
    "\n",
    "if year%4 == 0:\n",
    "    if year%100 == 0:\n",
    "        if year%400 == 0:\n",
    "            print(year,\" is a leap year\");\n",
    "        else:\n",
    "            print(year,' is not a leap year')\n",
    "    else: \n",
    "        print(year,' is a leap year');\n",
    "else: \n",
    "    print(year,' is not a leap year');"
   ]
  },
  {
   "cell_type": "code",
   "execution_count": 9,
   "metadata": {},
   "outputs": [
    {
     "name": "stdout",
     "output_type": "stream",
     "text": [
      "Result:  5.0\n"
     ]
    }
   ],
   "source": [
    "# Calculator\n",
    "\n",
    "num1 = float(input(\"Enter first number: \"));\n",
    "num2 = float(input(\"Enter second number: \"));\n",
    "\n",
    "operation = input('Enter operation (+, -, *, /): ');\n",
    "\n",
    "if operation == '+':\n",
    "    result = num1 + num2;\n",
    "elif operation == '-':\n",
    "    result = num1 - num2;\n",
    "elif operation == '*':\n",
    "    result = num1 * num2;\n",
    "elif operation == '/':\n",
    "    if num2 != 0:\n",
    "        result = num1 / num2;\n",
    "    else: \n",
    "        result = 'Error! Division by zero.'\n",
    "else:\n",
    "    result = 'Invalid operation'\n",
    "\n",
    "print(\"Result: \", result);"
   ]
  },
  {
   "cell_type": "code",
   "execution_count": null,
   "metadata": {},
   "outputs": [],
   "source": []
  }
 ],
 "metadata": {
  "kernelspec": {
   "display_name": "Python 3",
   "language": "python",
   "name": "python3"
  },
  "language_info": {
   "codemirror_mode": {
    "name": "ipython",
    "version": 3
   },
   "file_extension": ".py",
   "mimetype": "text/x-python",
   "name": "python",
   "nbconvert_exporter": "python",
   "pygments_lexer": "ipython3",
   "version": "3.12.0"
  }
 },
 "nbformat": 4,
 "nbformat_minor": 2
}
