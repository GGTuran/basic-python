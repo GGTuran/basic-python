{
 "cells": [
  {
   "cell_type": "markdown",
   "metadata": {},
   "source": [
    "Python Memory Management\n",
    "Memory management in Python involves a combination of automatic garbage collection, reference counting, and various internal optimizations to efficiently manage memory allocation and deallocation. Understanding these mechanisms can help developers write more efficient and robust applications.\n",
    "\n",
    "\n",
    "Reference Counting\n",
    "Reference counting is the primary method Python uses to manage memory. Each object in Python maintains a count of references pointing to it. When the reference count drops to zero, the memory occupied by the object is deallocated."
   ]
  },
  {
   "cell_type": "code",
   "execution_count": 6,
   "metadata": {},
   "outputs": [],
   "source": [
    "import sys"
   ]
  },
  {
   "cell_type": "code",
   "execution_count": 7,
   "metadata": {},
   "outputs": [
    {
     "name": "stdout",
     "output_type": "stream",
     "text": [
      "2\n"
     ]
    }
   ],
   "source": [
    "a = []\n",
    "## 2(one reference from 'a' and one from getrefcount())\n",
    "print(sys.getrefcount(a))"
   ]
  },
  {
   "cell_type": "code",
   "execution_count": 8,
   "metadata": {},
   "outputs": [
    {
     "name": "stdout",
     "output_type": "stream",
     "text": [
      "3\n"
     ]
    }
   ],
   "source": [
    "b = a\n",
    "print(sys.getrefcount(b))"
   ]
  },
  {
   "cell_type": "code",
   "execution_count": 9,
   "metadata": {},
   "outputs": [
    {
     "name": "stdout",
     "output_type": "stream",
     "text": [
      "2\n"
     ]
    }
   ],
   "source": [
    "del b\n",
    "print(sys.getrefcount(a))"
   ]
  },
  {
   "cell_type": "markdown",
   "metadata": {},
   "source": [
    "#### Garbage Collection\n",
    "Python includes a cyclic garbage collector to handle reference cycles. Reference cycles occur when objects reference each other, preventing their reference counts from reaching zero."
   ]
  },
  {
   "cell_type": "markdown",
   "metadata": {},
   "source": []
  },
  {
   "cell_type": "code",
   "execution_count": 12,
   "metadata": {},
   "outputs": [],
   "source": [
    "import gc"
   ]
  },
  {
   "cell_type": "code",
   "execution_count": 13,
   "metadata": {},
   "outputs": [],
   "source": [
    "gc.enable()"
   ]
  },
  {
   "cell_type": "code",
   "execution_count": 14,
   "metadata": {},
   "outputs": [],
   "source": [
    "gc.disable()"
   ]
  },
  {
   "cell_type": "code",
   "execution_count": 15,
   "metadata": {},
   "outputs": [
    {
     "data": {
      "text/plain": [
       "88"
      ]
     },
     "execution_count": 15,
     "metadata": {},
     "output_type": "execute_result"
    }
   ],
   "source": [
    "gc.collect()"
   ]
  },
  {
   "cell_type": "code",
   "execution_count": 16,
   "metadata": {},
   "outputs": [
    {
     "name": "stdout",
     "output_type": "stream",
     "text": [
      "[{'collections': 167, 'collected': 1550, 'uncollectable': 0}, {'collections': 15, 'collected': 338, 'uncollectable': 0}, {'collections': 2, 'collected': 88, 'uncollectable': 0}]\n"
     ]
    }
   ],
   "source": [
    "# Get Garbage collection stats\n",
    "print(gc.get_stats())"
   ]
  },
  {
   "cell_type": "code",
   "execution_count": 17,
   "metadata": {},
   "outputs": [
    {
     "name": "stdout",
     "output_type": "stream",
     "text": [
      "[]\n"
     ]
    }
   ],
   "source": [
    "# get unreachable objects \n",
    "print(gc.garbage)"
   ]
  },
  {
   "cell_type": "markdown",
   "metadata": {},
   "source": [
    "### Memory Management Best Practices\n",
    "Use Local Variables: Local variables have a shorter lifespan and are freed sooner than global variables.\n",
    "Avoid Circular References: Circular references can lead to memory leaks if not properly managed.\n",
    "Use Generators: Generators produce items one at a time and only keep one item in memory at a time, making them memory efficient.\n",
    "Explicitly Delete Objects: Use the del statement to delete variables and objects explicitly.\n",
    "Profile Memory Usage: Use memory profiling tools like tracemalloc and memory_profiler to identify memory leaks and optimize memory usage."
   ]
  },
  {
   "cell_type": "code",
   "execution_count": 20,
   "metadata": {},
   "outputs": [
    {
     "name": "stdout",
     "output_type": "stream",
     "text": [
      "Object obj1 created\n",
      "Object obj2 created\n",
      "Object obj1 deleted\n",
      "Object obj2 deleted\n"
     ]
    },
    {
     "data": {
      "text/plain": [
       "9"
      ]
     },
     "execution_count": 20,
     "metadata": {},
     "output_type": "execute_result"
    }
   ],
   "source": [
    "import gc\n",
    "\n",
    "class MyObject:\n",
    "    def __init__(self,name):\n",
    "        self.name = name\n",
    "        print(f\"Object {self.name} created\")\n",
    "\n",
    "    def __del__(self):\n",
    "        print(f\"Object {self.name} deleted\")\n",
    "\n",
    "\n",
    "# Create circular refrece \n",
    "obj1 = MyObject(\"obj1\")\n",
    "obj2 = MyObject(\"obj2\")\n",
    "\n",
    "obj1.ref = obj2\n",
    "obj2.ref = obj1\n",
    "\n",
    "del obj1\n",
    "del obj2\n",
    "\n",
    "# Manually trigger the garbage collection \n",
    "gc.collect() "
   ]
  },
  {
   "cell_type": "code",
   "execution_count": 21,
   "metadata": {},
   "outputs": [
    {
     "name": "stdout",
     "output_type": "stream",
     "text": [
      "0\n",
      "1\n",
      "2\n",
      "3\n",
      "4\n",
      "5\n",
      "6\n",
      "7\n",
      "8\n",
      "9\n",
      "10\n",
      "11\n"
     ]
    }
   ],
   "source": [
    "## Generators For Memory Efficiency\n",
    "#Generators allow you to produce items one at a time, using memory efficiently by only keeping one item in memory at a time.\n",
    "\n",
    "def generate_numbers(n):\n",
    "    for i in range(n):\n",
    "        yield i\n",
    "\n",
    "## using the generator\n",
    "for num in generate_numbers(100000):\n",
    "    print(num)\n",
    "    if num>10:\n",
    "        break"
   ]
  },
  {
   "cell_type": "code",
   "execution_count": 22,
   "metadata": {},
   "outputs": [],
   "source": [
    "# Profiling memory usage \n",
    "import tracemalloc"
   ]
  },
  {
   "cell_type": "code",
   "execution_count": 25,
   "metadata": {},
   "outputs": [],
   "source": [
    "def create_list():\n",
    "    return [i for i in range(10000)]\n",
    "\n",
    "def main():\n",
    "    tracemalloc.start()\n",
    "\n",
    "    create_list()\n",
    "\n",
    "    snapshot = tracemalloc.take_snapshot()\n",
    "    top_stats = snapshot.statistics('lineno')\n",
    "\n",
    "    print(\"[ Top 10 ]\")\n",
    "    for stat in top_stats[::]:\n",
    "        print(stat)"
   ]
  },
  {
   "cell_type": "code",
   "execution_count": 26,
   "metadata": {},
   "outputs": [
    {
     "name": "stdout",
     "output_type": "stream",
     "text": [
      "[ Top 10 ]\n",
      "c:\\ML\\venv\\Lib\\selectors.py:314: size=288 KiB, count=6, average=48.0 KiB\n",
      "c:\\ML\\venv\\Lib\\json\\decoder.py:353: size=2417 B, count=34, average=71 B\n",
      "c:\\ML\\venv\\Lib\\site-packages\\zmq\\sugar\\attrsettr.py:45: size=1598 B, count=34, average=47 B\n",
      "c:\\ML\\venv\\Lib\\codeop.py:118: size=1261 B, count=10, average=126 B\n",
      "c:\\ML\\venv\\Lib\\site-packages\\zmq\\sugar\\socket.py:811: size=1056 B, count=6, average=176 B\n",
      "c:\\ML\\venv\\Lib\\site-packages\\traitlets\\traitlets.py:1543: size=922 B, count=15, average=61 B\n",
      "c:\\ML\\venv\\Lib\\site-packages\\IPython\\core\\compilerop.py:174: size=892 B, count=13, average=69 B\n",
      "c:\\ML\\venv\\Lib\\site-packages\\IPython\\core\\compilerop.py:86: size=851 B, count=11, average=77 B\n",
      "c:\\ML\\venv\\Lib\\site-packages\\traitlets\\traitlets.py:1514: size=840 B, count=7, average=120 B\n",
      "c:\\ML\\venv\\Lib\\site-packages\\traitlets\\traitlets.py:731: size=829 B, count=13, average=64 B\n",
      "c:\\ML\\venv\\Lib\\site-packages\\jupyter_client\\session.py:1057: size=770 B, count=6, average=128 B\n",
      "c:\\ML\\venv\\Lib\\threading.py:272: size=760 B, count=2, average=380 B\n",
      "c:\\ML\\venv\\Lib\\site-packages\\jupyter_client\\jsonutil.py:111: size=700 B, count=14, average=50 B\n",
      "c:\\ML\\venv\\Lib\\site-packages\\IPython\\core\\interactiveshell.py:3073: size=520 B, count=4, average=130 B\n",
      "c:\\ML\\venv\\Lib\\site-packages\\ipykernel\\kernelbase.py:775: size=424 B, count=2, average=212 B\n",
      "c:\\ML\\venv\\Lib\\site-packages\\jupyter_client\\jsonutil.py:75: size=416 B, count=2, average=208 B\n",
      "c:\\ML\\venv\\Lib\\site-packages\\IPython\\core\\interactiveshell.py:3303: size=376 B, count=1, average=376 B\n",
      "c:\\ML\\venv\\Lib\\site-packages\\IPython\\core\\history.py:941: size=365 B, count=2, average=182 B\n",
      "c:\\ML\\venv\\Lib\\site-packages\\ipykernel\\iostream.py:287: size=360 B, count=3, average=120 B\n",
      "c:\\ML\\venv\\Lib\\site-packages\\ipykernel\\ipkernel.py:362: size=360 B, count=1, average=360 B\n",
      "c:\\ML\\venv\\Lib\\site-packages\\IPython\\core\\history.py:994: size=336 B, count=2, average=168 B\n",
      "c:\\ML\\venv\\Lib\\asyncio\\base_events.py:792: size=312 B, count=3, average=104 B\n",
      "c:\\ML\\venv\\Lib\\site-packages\\IPython\\core\\interactiveshell.py:3486: size=296 B, count=1, average=296 B\n",
      "c:\\ML\\venv\\Lib\\site-packages\\ipykernel\\zmqshell.py:549: size=288 B, count=4, average=72 B\n",
      "c:\\ML\\venv\\Lib\\site-packages\\tornado\\queues.py:248: size=288 B, count=2, average=144 B\n",
      "c:\\ML\\venv\\Lib\\threading.py:269: size=280 B, count=2, average=140 B\n",
      "c:\\ML\\venv\\Lib\\site-packages\\ipykernel\\iostream.py:527: size=272 B, count=4, average=68 B\n",
      "c:\\ML\\venv\\Lib\\site-packages\\ipykernel\\kernelbase.py:534: size=264 B, count=1, average=264 B\n",
      "c:\\ML\\venv\\Lib\\site-packages\\ipykernel\\kernelbase.py:435: size=248 B, count=1, average=248 B\n",
      "c:\\ML\\venv\\Lib\\site-packages\\ipykernel\\iostream.py:346: size=240 B, count=2, average=120 B\n",
      "c:\\ML\\venv\\Lib\\logging\\__init__.py:1622: size=240 B, count=1, average=240 B\n",
      "c:\\ML\\venv\\Lib\\site-packages\\ipykernel\\kernelbase.py:545: size=232 B, count=1, average=232 B\n",
      "c:\\ML\\venv\\Lib\\asyncio\\events.py:84: size=216 B, count=3, average=72 B\n",
      "c:\\ML\\venv\\Lib\\site-packages\\IPython\\core\\interactiveshell.py:3192: size=208 B, count=4, average=52 B\n",
      "c:\\ML\\venv\\Lib\\site-packages\\tornado\\platform\\asyncio.py:235: size=208 B, count=3, average=69 B\n",
      "c:\\ML\\venv\\Lib\\site-packages\\jupyter_client\\session.py:1085: size=208 B, count=1, average=208 B\n",
      "c:\\ML\\venv\\Lib\\site-packages\\ipykernel\\kernelbase.py:770: size=208 B, count=1, average=208 B\n",
      "c:\\ML\\venv\\Lib\\site-packages\\ipykernel\\compiler.py:91: size=206 B, count=2, average=103 B\n",
      "c:\\ML\\venv\\Lib\\asyncio\\futures.py:418: size=200 B, count=5, average=40 B\n",
      "c:\\ML\\venv\\Lib\\site-packages\\zmq\\sugar\\socket.py:808: size=176 B, count=1, average=176 B\n",
      "c:\\ML\\venv\\Lib\\site-packages\\IPython\\core\\interactiveshell.py:3193: size=160 B, count=4, average=40 B\n",
      "c:\\ML\\venv\\Lib\\site-packages\\ipykernel\\kernelbase.py:570: size=160 B, count=1, average=160 B\n",
      "c:\\ML\\venv\\Lib\\site-packages\\IPython\\core\\interactiveshell.py:3546: size=160 B, count=1, average=160 B\n",
      "c:\\ML\\venv\\Lib\\site-packages\\IPython\\core\\interactiveshell.py:3462: size=160 B, count=1, average=160 B\n",
      "c:\\ML\\venv\\Lib\\site-packages\\IPython\\core\\interactiveshell.py:3206: size=160 B, count=1, average=160 B\n",
      "c:\\ML\\venv\\Lib\\asyncio\\futures.py:394: size=160 B, count=1, average=160 B\n",
      "c:\\ML\\venv\\Lib\\asyncio\\futures.py:387: size=160 B, count=1, average=160 B\n",
      "c:\\ML\\venv\\Lib\\asyncio\\futures.py:381: size=160 B, count=1, average=160 B\n",
      "C:\\Users\\Turan\\AppData\\Local\\Temp\\ipykernel_11608\\173858865.py:4: size=160 B, count=1, average=160 B\n",
      "C:\\Users\\Turan\\AppData\\Local\\Temp\\ipykernel_11608\\173858865.py:1: size=160 B, count=1, average=160 B\n",
      "c:\\ML\\venv\\Lib\\site-packages\\ipykernel\\iostream.py:722: size=144 B, count=2, average=72 B\n",
      "c:\\ML\\venv\\Lib\\asyncio\\base_events.py:427: size=144 B, count=1, average=144 B\n",
      "c:\\ML\\venv\\Lib\\threading.py:327: size=120 B, count=2, average=60 B\n",
      "c:\\ML\\venv\\Lib\\threading.py:121: size=120 B, count=2, average=60 B\n",
      "c:\\ML\\venv\\Lib\\site-packages\\ipykernel\\kernelbase.py:318: size=120 B, count=2, average=60 B\n",
      "c:\\ML\\venv\\Lib\\site-packages\\ipykernel\\iostream.py:276: size=120 B, count=1, average=120 B\n",
      "c:\\ML\\venv\\Lib\\inspect.py:265: size=120 B, count=1, average=120 B\n",
      "c:\\ML\\venv\\Lib\\site-packages\\jupyter_client\\session.py:989: size=111 B, count=2, average=56 B\n",
      "c:\\ML\\venv\\Lib\\site-packages\\dateutil\\parser\\isoparser.py:146: size=96 B, count=2, average=48 B\n",
      "c:\\ML\\venv\\Lib\\site-packages\\IPython\\core\\interactiveshell.py:3344: size=96 B, count=2, average=48 B\n",
      "c:\\ML\\venv\\Lib\\site-packages\\IPython\\core\\history.py:965: size=90 B, count=2, average=45 B\n",
      "c:\\ML\\venv\\Lib\\threading.py:271: size=72 B, count=1, average=72 B\n",
      "c:\\ML\\venv\\Lib\\threading.py:267: size=72 B, count=1, average=72 B\n",
      "c:\\ML\\venv\\Lib\\threading.py:262: size=72 B, count=1, average=72 B\n",
      "c:\\ML\\venv\\Lib\\threading.py:261: size=72 B, count=1, average=72 B\n",
      "c:\\ML\\venv\\Lib\\site-packages\\IPython\\core\\interactiveshell.py:3478: size=64 B, count=2, average=32 B\n",
      "c:\\ML\\venv\\Lib\\threading.py:631: size=64 B, count=1, average=64 B\n",
      "c:\\ML\\venv\\Lib\\site-packages\\zmq\\sugar\\socket.py:812: size=64 B, count=1, average=64 B\n",
      "c:\\ML\\venv\\Lib\\site-packages\\ipykernel\\ipkernel.py:449: size=64 B, count=1, average=64 B\n",
      "c:\\ML\\venv\\Lib\\site-packages\\ipykernel\\ipkernel.py:384: size=64 B, count=1, average=64 B\n",
      "c:\\ML\\venv\\Lib\\site-packages\\ipykernel\\ipkernel.py:383: size=64 B, count=1, average=64 B\n",
      "c:\\ML\\venv\\Lib\\site-packages\\ipykernel\\ipkernel.py:294: size=64 B, count=1, average=64 B\n",
      "c:\\ML\\venv\\Lib\\site-packages\\ipykernel\\ipkernel.py:291: size=64 B, count=1, average=64 B\n",
      "c:\\ML\\venv\\Lib\\site-packages\\IPython\\core\\interactiveshell.py:3535: size=64 B, count=1, average=64 B\n",
      "c:\\ML\\venv\\Lib\\site-packages\\IPython\\core\\interactiveshell.py:3272: size=64 B, count=1, average=64 B\n",
      "c:\\ML\\venv\\Lib\\site-packages\\IPython\\core\\interactiveshell.py:3269: size=64 B, count=1, average=64 B\n",
      "c:\\ML\\venv\\Lib\\site-packages\\jupyter_client\\session.py:200: size=48 B, count=1, average=48 B\n",
      "c:\\ML\\venv\\Lib\\site-packages\\IPython\\core\\interactiveshell.py:3474: size=48 B, count=1, average=48 B\n",
      "c:\\ML\\venv\\Lib\\concurrent\\futures\\_base.py:330: size=48 B, count=1, average=48 B\n",
      "c:\\ML\\venv\\Lib\\site-packages\\IPython\\core\\prefilter.py:317: size=47 B, count=1, average=47 B\n",
      "c:\\ML\\venv\\Lib\\site-packages\\jupyter_client\\session.py:996: size=32 B, count=1, average=32 B\n",
      "c:\\ML\\venv\\Lib\\site-packages\\jupyter_client\\session.py:603: size=32 B, count=1, average=32 B\n",
      "c:\\ML\\venv\\Lib\\site-packages\\ipykernel\\iostream.py:637: size=32 B, count=1, average=32 B\n",
      "c:\\ML\\venv\\Lib\\site-packages\\IPython\\core\\interactiveshell.py:3472: size=32 B, count=1, average=32 B\n",
      "c:\\ML\\venv\\Lib\\site-packages\\IPython\\core\\history.py:952: size=32 B, count=1, average=32 B\n",
      "c:\\ML\\venv\\Lib\\site-packages\\IPython\\core\\compilerop.py:192: size=32 B, count=1, average=32 B\n",
      "c:\\ML\\venv\\Lib\\concurrent\\futures\\_base.py:421: size=32 B, count=1, average=32 B\n",
      "c:\\ML\\venv\\Lib\\asyncio\\base_events.py:1935: size=32 B, count=1, average=32 B\n",
      "c:\\ML\\venv\\Lib\\asyncio\\base_events.py:1924: size=32 B, count=1, average=32 B\n",
      "c:\\ML\\venv\\Lib\\site-packages\\IPython\\core\\compilerop.py:172: size=28 B, count=1, average=28 B\n",
      "c:\\ML\\venv\\Lib\\site-packages\\IPython\\core\\interactiveshell.py:3454: size=8 B, count=1, average=8 B\n"
     ]
    }
   ],
   "source": [
    "main()"
   ]
  },
  {
   "cell_type": "code",
   "execution_count": null,
   "metadata": {},
   "outputs": [],
   "source": []
  }
 ],
 "metadata": {
  "kernelspec": {
   "display_name": "Python 3",
   "language": "python",
   "name": "python3"
  },
  "language_info": {
   "codemirror_mode": {
    "name": "ipython",
    "version": 3
   },
   "file_extension": ".py",
   "mimetype": "text/x-python",
   "name": "python",
   "nbconvert_exporter": "python",
   "pygments_lexer": "ipython3",
   "version": "3.12.0"
  }
 },
 "nbformat": 4,
 "nbformat_minor": 2
}
